{
 "cells": [
  {
   "cell_type": "code",
   "execution_count": 1,
   "metadata": {
    "collapsed": false
   },
   "outputs": [
    {
     "name": "stdout",
     "output_type": "stream",
     "text": [
      "199.860338926\n"
     ]
    }
   ],
   "source": [
    "#### Data Reading ####\n",
    "    \n",
    "    ### Test of different types of data reading ###\n",
    "    \n",
    "        ## 1. use pandas load\n",
    "import time\n",
    "import pandas as pd\n",
    "start_time = time.time()\n",
    "data = pd.read_csv('data/train.csv')\n",
    "end_time = time.time()\n",
    "print end_time - start_time\n",
    "# 150.64201498\n",
    "        ## Pickle way, doesnot seem to be sucessful\n",
    "# import cPickle\n",
    "# f = open(\"data/data.pkl\",\"wb\")\n",
    "# cPickle.dump(data,f)\n",
    "# f.close()\n",
    "\n",
    "# f = open(\"data/data.pkl\",\"rb\")\n",
    "# data = cPickle.load(f)\n",
    "# f.close()"
   ]
  },
  {
   "cell_type": "code",
   "execution_count": 15,
   "metadata": {
    "collapsed": false
   },
   "outputs": [
    {
     "data": {
      "text/plain": [
       "59"
      ]
     },
     "execution_count": 15,
     "metadata": {},
     "output_type": "execute_result"
    }
   ],
   "source": []
  },
  {
   "cell_type": "code",
   "execution_count": 5,
   "metadata": {
    "collapsed": false
   },
   "outputs": [],
   "source": [
    "import numpy as np\n",
    "counts,bins = np.histogram(data['hotel_cluster'],bins=range(100))\n",
    "# import matplotlib.pyplot as plt\n",
    "# plt.hist(data['hotel_cluster'],bins=range(100))\n",
    "# plt.show()"
   ]
  },
  {
   "cell_type": "code",
   "execution_count": 9,
   "metadata": {
    "collapsed": false
   },
   "outputs": [],
   "source": [
    "popularity_ranking = sorted(zip(counts,bins))"
   ]
  },
  {
   "cell_type": "code",
   "execution_count": 30,
   "metadata": {
    "collapsed": false
   },
   "outputs": [],
   "source": [
    "#### PREDICTION ALGORITHM\n",
    "\n",
    "\n",
    "### BUILD Distance -> Cluster \n",
    "dist_dict = {}\n",
    "org_dist = data['orig_destination_distance']\n",
    "hotel = data['hotel_cluster']\n",
    "for k,d in enumerate(org_dist):\n",
    "    if d > 0:\n",
    "        dist_dict[d] = hotel[k]\n",
    "\n",
    "fields = ['id','orig_destination_distance']\n",
    "df = pd.read_csv('data/test.csv',sep=',',usecols=fields)\n"
   ]
  },
  {
   "cell_type": "code",
   "execution_count": 28,
   "metadata": {
    "collapsed": false
   },
   "outputs": [],
   "source": [
    "test_org = df['orig_destination_distance']\n",
    "prediction = []\n",
    "for t in test_org:\n",
    "    if t in dist_dict:\n",
    "        prediction.append([dist_dict[t]])\n",
    "    else:\n",
    "        prediction.append([91,98,41,48])\n"
   ]
  },
  {
   "cell_type": "code",
   "execution_count": 20,
   "metadata": {
    "collapsed": true
   },
   "outputs": [],
   "source": [
    "import numpy as np\n",
    "\n",
    "def apk(actual, predicted, k=10):\n",
    "    \"\"\"\n",
    "    Computes the average precision at k.\n",
    "    This function computes the average prescision at k between two lists of\n",
    "    items.\n",
    "    Parameters\n",
    "    ----------\n",
    "    actual : list\n",
    "             A list of elements that are to be predicted (order doesn't matter)\n",
    "    predicted : list\n",
    "                A list of predicted elements (order does matter)\n",
    "    k : int, optional\n",
    "        The maximum number of predicted elements\n",
    "    Returns\n",
    "    -------\n",
    "    score : double\n",
    "            The average precision at k over the input lists\n",
    "    \"\"\"\n",
    "    if len(predicted)>k:\n",
    "        predicted = predicted[:k]\n",
    "\n",
    "    score = 0.0\n",
    "    num_hits = 0.0\n",
    "\n",
    "    for i,p in enumerate(predicted):\n",
    "        if p in actual and p not in predicted[:i]:\n",
    "            num_hits += 1.0\n",
    "            score += num_hits / (i+1.0)\n",
    "\n",
    "    if not actual:\n",
    "        return 0.0\n",
    "\n",
    "    return score / min(len(actual), k)\n",
    "\n",
    "def mapk(actual, predicted, k=10):\n",
    "    \"\"\"\n",
    "    Computes the mean average precision at k.\n",
    "    This function computes the mean average prescision at k between two lists\n",
    "    of lists of items.\n",
    "    Parameters\n",
    "    ----------\n",
    "    actual : list\n",
    "             A list of lists of elements that are to be predicted \n",
    "             (order doesn't matter in the lists)\n",
    "    predicted : list\n",
    "                A list of lists of predicted elements\n",
    "                (order matters in the lists)\n",
    "    k : int, optional\n",
    "        The maximum number of predicted elements\n",
    "    Returns\n",
    "    -------\n",
    "    score : double\n",
    "            The mean average precision at k over the input lists\n",
    "    \"\"\"\n",
    "    return np.mean([apk(a,p,k) for a,p in zip(actual, predicted)])"
   ]
  },
  {
   "cell_type": "code",
   "execution_count": 36,
   "metadata": {
    "collapsed": false
   },
   "outputs": [],
   "source": [
    "def prediction_to_csv(prediction):\n",
    "    f = open(\"data/submission.csv\",\"w\")\n",
    "    f.write(\"ID,hotel_cluster\\n\")\n",
    "    for k,P in enumerate(prediction):\n",
    "        f.write(str(k)+',')\n",
    "        for p in P:\n",
    "            f.write(str(p) + \" \")\n",
    "        f.write('\\n')\n",
    "    f.close()"
   ]
  },
  {
   "cell_type": "code",
   "execution_count": 37,
   "metadata": {
    "collapsed": false
   },
   "outputs": [],
   "source": [
    "prediction_to_csv(prediction)"
   ]
  },
  {
   "cell_type": "code",
   "execution_count": null,
   "metadata": {
    "collapsed": true
   },
   "outputs": [],
   "source": []
  }
 ],
 "metadata": {
  "kernelspec": {
   "display_name": "Python 2",
   "language": "python",
   "name": "python2"
  },
  "language_info": {
   "codemirror_mode": {
    "name": "ipython",
    "version": 2
   },
   "file_extension": ".py",
   "mimetype": "text/x-python",
   "name": "python",
   "nbconvert_exporter": "python",
   "pygments_lexer": "ipython2",
   "version": "2.7.10"
  }
 },
 "nbformat": 4,
 "nbformat_minor": 0
}
